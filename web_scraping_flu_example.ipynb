{
 "cells": [
  {
   "cell_type": "markdown",
   "metadata": {},
   "source": [
    "# Web scraping example.  This scrapes Influenza burden data from the CDC web site"
   ]
  },
  {
   "cell_type": "code",
   "execution_count": 1,
   "metadata": {},
   "outputs": [
    {
     "name": "stdout",
     "output_type": "stream",
     "text": [
      "100\n",
      "(10, 10)\n",
      "Estimated rates of influenza disease outcomes, per 100,000 by age group — United States, 2010-2011 influenza season\n",
      "  Unnamed: 0_level_0 Illness rate                       Medical visit rate  \\\n",
      "           Age group     Estimate              95% Cr I           Estimate   \n",
      "0            0-4 yrs      13743.2  (11,319.6, 17,432.0)             9207.9   \n",
      "1           5-17 yrs       8216.6  ( 6,686.1, 10,832.1)             4272.6   \n",
      "2          18-49 yrs       5468.1   ( 4,537.7, 7,030.2)             2023.2   \n",
      "3          50-64 yrs       8240.5  ( 6,858.4, 11,046.5)             3543.4   \n",
      "4            65+ yrs       4521.1   ( 3,951.1, 5,948.4)             2531.8   \n",
      "\n",
      "                       Hospitalization rate                 Mortality rate  \\\n",
      "              95% Cr I             Estimate        95% Cr I       Estimate   \n",
      "0  (7,411.9, 11,935.4)                 95.8   (78.9, 121.5)            1.0   \n",
      "1   (3,423.3, 5,712.9)                 22.5    (18.3, 29.7)            0.3   \n",
      "2   (1,626.2, 2,684.8)                 30.7    (25.5, 39.5)            3.9   \n",
      "3   (2,827.8, 4,881.0)                 87.4   (72.7, 117.1)           10.1   \n",
      "4   (2,114.9, 3,436.3)                411.0  (359.2, 540.8)           62.4   \n",
      "\n",
      "                 \n",
      "       95% Cr I  \n",
      "0    (0.0, 2.5)  \n",
      "1    (0.0, 1.2)  \n",
      "2    (2.7, 6.2)  \n",
      "3   (6.8, 17.8)  \n",
      "4  (50.5, 95.2)  \n"
     ]
    }
   ],
   "source": [
    "# This is the beautiful soup html parser\n",
    "# https://pypi.org/project/beautifulsoup4/\n",
    "from bs4 import BeautifulSoup\n",
    "\n",
    "# This is an http client to fetch the page\n",
    "# https://requests.readthedocs.io/en/master/\n",
    "import requests as req\n",
    "\n",
    "# Pandas\n",
    "# https://pandas.pydata.org/docs/\n",
    "import pandas as pd\n",
    "\n",
    "# html parser needed by pandas.read_html()\n",
    "# Note if you pip install this and Juypter Notebooks still insists\n",
    "# it is missing, try selecting restart from the kernel menu here.\n",
    "import lxml\n",
    "\n",
    "# Fetch the page\n",
    "r = req.get( 'https://www.cdc.gov/flu/about/burden/2010-2011.html')\n",
    "\n",
    "# Instantiate the parser\n",
    "soup = BeautifulSoup(r.text)\n",
    " \n",
    "# New pandas dataframe to hold results of scraping this page\n",
    "# https://pandas.pydata.org/pandas-docs/stable/getting_started/10min.html\n",
    "pdf = pd.DataFrame(index=range(10),columns=range(10))\n",
    "\n",
    "# Debugging\n",
    "print(pdf.size)\n",
    "print(pdf.shape)\n",
    "\n",
    "# find all the tables\n",
    "# to understand this code, you should have a page\n",
    "# with view source open on the page to be scraped.\n",
    "# that way you can see why this works.\n",
    "for aTable in soup.find_all( 'table'):\n",
    "    table_title = aTable.find( 'h3')\n",
    "    \n",
    "    #pick the table we want by title\n",
    "    # could also have subscripted as  in aTable.find()[1]\n",
    "    if 'Estimated rates of influenza disease' in table_title.text:\n",
    "        print( table_title.text )\n",
    "        pdf = pd.read_html(str(aTable))[0]\n",
    "         \n",
    "        # Just a data dump of the Pandas dataframe for now.\n",
    "        print(pdf.head())\n",
    "\n",
    "    \n"
   ]
  },
  {
   "cell_type": "markdown",
   "metadata": {},
   "source": [
    "Ok, we have a dataframe with the scraped table in it.  Notice how short the code was to do this.  Sure I had to Google every freaking line, but it does work and it is not hard to understand, at least in retrospect.  That's Pandas, and to some extent, Python.  Short, cryptic and very powerful.\n",
    "\n",
    "(In passing, I note that the flu in the 2010 season was both different and similar to COVID-19.  A big difference is the total mortality, but also note the large number of young children affected, albeit with a very low death rate, thankfully.  And the death rate among the elderly is really scary, similar to or worse than COVID-19.)\n",
    "\n",
    "Now we need to pick out just the data we want from the dataframe."
   ]
  },
  {
   "cell_type": "code",
   "execution_count": null,
   "metadata": {},
   "outputs": [],
   "source": [
    "This shows the index that was automagically created by the read_html( ) method of the Pandas dataframe"
   ]
  },
  {
   "cell_type": "code",
   "execution_count": 22,
   "metadata": {},
   "outputs": [
    {
     "data": {
      "text/plain": [
       "MultiIndex(levels=[['Hospitalization rate', 'Illness rate', 'Medical visit rate', 'Mortality rate', 'Unnamed: 0_level_0'], ['95% Cr I', 'Age group', 'Estimate']],\n",
       "           codes=[[4, 1, 1, 2, 2, 0, 0, 3, 3], [1, 2, 0, 2, 0, 2, 0, 2, 0]])"
      ]
     },
     "execution_count": 22,
     "metadata": {},
     "output_type": "execute_result"
    }
   ],
   "source": [
    "#pdf.index\n",
    "pdf.columns"
   ]
  },
  {
   "cell_type": "markdown",
   "metadata": {},
   "source": [
    "Cool, but honestly I don't completely understand what I am looking at.  (For instance, what do the codes represent?) Instead, let's pick out some columns of interest using plain vanilla subscripts. First the 0-4 years death rate:"
   ]
  },
  {
   "cell_type": "code",
   "execution_count": 49,
   "metadata": {},
   "outputs": [
    {
     "data": {
      "text/plain": [
       "1.0"
      ]
     },
     "execution_count": 49,
     "metadata": {},
     "output_type": "execute_result"
    }
   ],
   "source": [
    "pdf.loc[0][7]"
   ]
  },
  {
   "cell_type": "markdown",
   "metadata": {},
   "source": [
    "So ignoring the multiIndex stuff for now, the dataframe can be treated like a 2d array, using the numeric subscripts as shown in the output from pdf.head() before.  Looking there, we can see that row 0 has the data for the 0-4 years cohort.  And column 7 has the mortality rate."
   ]
  },
  {
   "cell_type": "markdown",
   "metadata": {},
   "source": [
    "# Here's what you need to do:"
   ]
  },
  {
   "cell_type": "markdown",
   "metadata": {},
   "source": [
    "1. Select another flu year from the CDC web site.  Just change the year in the fetch above. Post a claim in the discussion for the year you select.  pick a year other than the one I am using. \n",
    "2. Run the web scraping code in the cells above on that page.\n",
    "3. Demonstrate code that will pick out the mortality rates for each age group.\n",
    "4. Put the rates you grab into a Python listor dictionary (you needn't create another dataframe unless you just want to).\n",
    "5. Post a screenshot of your added code from your Notebook in the discussion forum.\n",
    "6. Google, work together, ask questions of me or peers as appropriate."
   ]
  }
 ],
 "metadata": {
  "kernelspec": {
   "display_name": "Python 3",
   "language": "python",
   "name": "python3"
  },
  "language_info": {
   "codemirror_mode": {
    "name": "ipython",
    "version": 3
   },
   "file_extension": ".py",
   "mimetype": "text/x-python",
   "name": "python",
   "nbconvert_exporter": "python",
   "pygments_lexer": "ipython3",
   "version": "3.7.3"
  }
 },
 "nbformat": 4,
 "nbformat_minor": 4
}
